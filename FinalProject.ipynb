{
 "cells": [
  {
   "cell_type": "markdown",
   "metadata": {
    "id": "y2MZurcV4Dqo"
   },
   "source": [
    "# Final Project\n",
    "\n",
    "For the following project, you will be working with a movie dataset. The dataset is [here](https://drive.google.com/file/d/1R53inu8Jcb9GGoyiuVnBMVnO7XvCaJAE/view?usp=drive_link). The dataset columns are as follows:\n",
    "\n",
    "* Title: The movie's title\n",
    "* Genre: The movie's genre\n",
    "* Stars: The number of famous actors in the movie\n",
    "* Runtime: The length of the movie's runtime\n",
    "* Budget: How much was spent on filming the movie (in millions)\n",
    "* Promo: How much money was spent promoting the movie (in millions)\n",
    "* Season: The season in which the movie was released\n",
    "* Rating: The movie's rating\n",
    "* R1: Reviewer 1's review\n",
    "* R2: Reviewer 2's review\n",
    "* R3: Reviewer 3's review\n",
    "\n",
    "And the target variable:\n",
    "\n",
    "* Success: Whether the film was a success or a flop\n",
    "\n",
    "Fill in the answers to questions in the text field, and show your code below."
   ]
  },
  {
   "cell_type": "markdown",
   "metadata": {
    "id": "pMd--NtS6UYo"
   },
   "source": [
    "# Data loading\n",
    "\n",
    "Load the data"
   ]
  },
  {
   "cell_type": "code",
   "execution_count": 255,
   "metadata": {
    "id": "pPlRDp5R1Di5"
   },
   "outputs": [],
   "source": [
    "import pandas as pd\n",
    "\n",
    "df = pd.read_csv('./CMSC320FinalProjectData.csv')"
   ]
  },
  {
   "cell_type": "markdown",
   "metadata": {
    "id": "yH21qcym6a03"
   },
   "source": [
    "# Data Cleaning\n",
    "\n",
    "List the three biggest data errors below, with a summary of how you fixed them and why you choose that method:\n",
    "\n",
    "1. Runtime at 0:\n",
    "\n",
    "I dealt with movies that had runtimes with 0 by opting to delete the entire row. I did this because there were so few movies with runtime 0 compared to the overall dataset. Additionally, we are not at a loss for data as the dataset is very large and plentiful. \n",
    "\n",
    "2. Absurdly large budgets:\n",
    "\n",
    "There were definetly skewed data points when it came to budget. I googled it, and the largest budget in movie history is $447 million. So to clean this problem, I have decided to use mean imputation as there is a decent amount of movies that have budgets > 447 in this dataset and I value the other data they bring. \n",
    "\n",
    "3. Movies with 100 stars:\n",
    "\n",
    "Only a handful of movies somehow had 100 stars which is a complete outlier. Decided to delete the entire row as it was only a couple. \n",
    "*"
   ]
  },
  {
   "cell_type": "code",
   "execution_count": 327,
   "metadata": {
    "id": "bNLnmnpV4DUY"
   },
   "outputs": [
    {
     "name": "stdout",
     "output_type": "stream",
     "text": [
      "Checking for outliers and unsusual data ... Cleaning Below\n",
      "Max runtime: 155\n",
      "Min runtime: 0\n",
      "Max stars: 100\n",
      "Max year: 2023\n",
      "Min year: 2000\n",
      "Max budget: 160841585.09163028\n",
      "Min budget: 21.750323342668523\n",
      "Max Promo: 321.2034831219867\n",
      "Min Promo: 12.845040139587722\n"
     ]
    }
   ],
   "source": [
    "print(\"Checking for outliers and unsusual data ... Cleaning Below\")\n",
    "max_runtime = df['Runtime'].max()\n",
    "print(f\"Max runtime: {max_runtime}\")\n",
    "min_runtime = df['Runtime'].min() \n",
    "print(f\"Min runtime: {min_runtime}\")\n",
    "max_stars = df['Stars'].max()\n",
    "print(f\"Max stars: {max_stars}\")\n",
    "max_year = df['Year'].max()\n",
    "print(f\"Max year: {max_year}\")\n",
    "min_year = df['Year'].min()\n",
    "print(f\"Min year: {min_year}\")\n",
    "max_budget = df['Budget'].max()\n",
    "print(f\"Max budget: {max_budget}\")\n",
    "min_budget = df['Budget'].min()\n",
    "print(f\"Min budget: {min_budget}\")\n",
    "max_promo = df['Promo'].max()\n",
    "print(f\"Max Promo: {max_promo}\") #Seems large, but seems reasonable\n",
    "min_promo = df['Promo'].min()\n",
    "print(f\"Min Promo: {min_promo}\")"
   ]
  },
  {
   "cell_type": "code",
   "execution_count": 329,
   "metadata": {},
   "outputs": [
    {
     "name": "stdout",
     "output_type": "stream",
     "text": [
      "Min runtime: 109\n",
      "Max stars: 5\n",
      "Max budget: 327.41546290849664\n"
     ]
    }
   ],
   "source": [
    "#Cleaning runtime set to 0\n",
    "\n",
    "df_clean_runtime = df[df['Runtime'] != 0]\n",
    "\n",
    "min_runtime = df_clean_runtime['Runtime'].min() \n",
    "print(f\"Min runtime: {min_runtime}\")\n",
    "\n",
    "#Cleaning stars set to 100\n",
    "\n",
    "df_clean_stars = df_clean_runtime[df_clean_runtime['Stars'] != 100]\n",
    "\n",
    "max_stars = df_clean_stars['Stars'].max()\n",
    "print(f\"Max stars: {max_stars}\")\n",
    "\n",
    "#Cleaning extremly large budgets \n",
    "\n",
    "high_budget_rows = df_clean_stars['Budget'] > 447\n",
    "mean_budget = df_clean_stars.loc[~high_budget_rows, 'Budget'].mean()\n",
    "df_clean_stars.loc[high_budget_rows, 'Budget'] = mean_budget\n",
    "cleaned_df = df_clean_stars\n",
    "\n",
    "max_budget = cleaned_df['Budget'].max()\n",
    "print(f\"Max budget: {max_budget}\")"
   ]
  },
  {
   "cell_type": "markdown",
   "metadata": {
    "id": "dHokHRPI66lw"
   },
   "source": [
    "# Data Exploration\n",
    "\n",
    "\n",
    "\n"
   ]
  },
  {
   "cell_type": "markdown",
   "metadata": {
    "id": "OHbNovM57Lj7"
   },
   "source": [
    "Does Season have a stastically significant impact on a movie's success?\n",
    "\n",
    "**p-value:** 0.001918843577520339"
   ]
  },
  {
   "cell_type": "code",
   "execution_count": 49,
   "metadata": {
    "id": "XGZlyOBW65-B"
   },
   "outputs": [
    {
     "name": "stdout",
     "output_type": "stream",
     "text": [
      "Success  False  True \n",
      "Season               \n",
      "Fall        86     23\n",
      "Spring      85      7\n",
      "Summer     145     55\n",
      "Winter      94     26\n",
      "0.001918843577520339\n"
     ]
    }
   ],
   "source": [
    "from scipy.stats import chi2_contingency\n",
    "contingency_table = pd.crosstab(cleaned_df['Season'], cleaned_df['Success'])\n",
    "print(contingency_table)\n",
    "chi2, p_value, _, _ = chi2_contingency(contingency_table)\n",
    "print(p_value)"
   ]
  },
  {
   "cell_type": "markdown",
   "metadata": {
    "id": "OM6_URSkBXDz"
   },
   "source": [
    "Do seasons have a statistically significant difference in their distribution of content ratings?\n",
    "\n",
    "**p-value:** 0.23891250884745718"
   ]
  },
  {
   "cell_type": "code",
   "execution_count": 50,
   "metadata": {
    "id": "GtSbRZxOBeXC"
   },
   "outputs": [
    {
     "name": "stdout",
     "output_type": "stream",
     "text": [
      "Rating  PG  PG13   R\n",
      "Season              \n",
      "Fall    41    37  31\n",
      "Spring  31    34  27\n",
      "Summer  63    67  70\n",
      "Winter  54    38  28\n",
      "0.23891250884745718\n"
     ]
    }
   ],
   "source": [
    "from scipy.stats import chi2_contingency\n",
    "contingency_table = pd.crosstab(cleaned_df['Season'], cleaned_df['Rating'])\n",
    "print(contingency_table)\n",
    "chi2, p_value, _, _ = chi2_contingency(contingency_table)\n",
    "print(p_value)"
   ]
  },
  {
   "cell_type": "markdown",
   "metadata": {
    "id": "rbhSWWp37M2Z"
   },
   "source": [
    "Who is the harshest critic (highest precent of negative reviews)?\n",
    "\n",
    "**Critic:** R1\n",
    "\n",
    "Had to perform sentiment analysis here."
   ]
  },
  {
   "cell_type": "code",
   "execution_count": 262,
   "metadata": {
    "id": "92CUkllO7Slx"
   },
   "outputs": [
    {
     "name": "stdout",
     "output_type": "stream",
     "text": [
      "51.24760076775432\n",
      "39.923224568138195\n",
      "32.437619961612285\n"
     ]
    },
    {
     "name": "stderr",
     "output_type": "stream",
     "text": [
      "[nltk_data] Downloading package vader_lexicon to\n",
      "[nltk_data]     C:\\Users\\RyanJ\\AppData\\Roaming\\nltk_data...\n",
      "[nltk_data]   Package vader_lexicon is already up-to-date!\n",
      "C:\\Users\\RyanJ\\AppData\\Local\\Temp\\ipykernel_6712\\1928203620.py:14: SettingWithCopyWarning: \n",
      "A value is trying to be set on a copy of a slice from a DataFrame.\n",
      "Try using .loc[row_indexer,col_indexer] = value instead\n",
      "\n",
      "See the caveats in the documentation: https://pandas.pydata.org/pandas-docs/stable/user_guide/indexing.html#returning-a-view-versus-a-copy\n",
      "  cleaned_df['R1_Sentiment'] = cleaned_df['R1'].apply(lambda x: sid.polarity_scores(x)['compound'])\n",
      "C:\\Users\\RyanJ\\AppData\\Local\\Temp\\ipykernel_6712\\1928203620.py:15: SettingWithCopyWarning: \n",
      "A value is trying to be set on a copy of a slice from a DataFrame.\n",
      "Try using .loc[row_indexer,col_indexer] = value instead\n",
      "\n",
      "See the caveats in the documentation: https://pandas.pydata.org/pandas-docs/stable/user_guide/indexing.html#returning-a-view-versus-a-copy\n",
      "  cleaned_df['R2_Sentiment'] = cleaned_df['R2'].apply(lambda x: sid.polarity_scores(x)['compound'])\n",
      "C:\\Users\\RyanJ\\AppData\\Local\\Temp\\ipykernel_6712\\1928203620.py:16: SettingWithCopyWarning: \n",
      "A value is trying to be set on a copy of a slice from a DataFrame.\n",
      "Try using .loc[row_indexer,col_indexer] = value instead\n",
      "\n",
      "See the caveats in the documentation: https://pandas.pydata.org/pandas-docs/stable/user_guide/indexing.html#returning-a-view-versus-a-copy\n",
      "  cleaned_df['R3_Sentiment'] = cleaned_df['R3'].apply(lambda x: sid.polarity_scores(x)['compound'])\n",
      "C:\\Users\\RyanJ\\AppData\\Local\\Temp\\ipykernel_6712\\1928203620.py:19: SettingWithCopyWarning: \n",
      "A value is trying to be set on a copy of a slice from a DataFrame.\n",
      "Try using .loc[row_indexer,col_indexer] = value instead\n",
      "\n",
      "See the caveats in the documentation: https://pandas.pydata.org/pandas-docs/stable/user_guide/indexing.html#returning-a-view-versus-a-copy\n",
      "  cleaned_df.loc[:, 'R1_Sentiment_Class'] = cleaned_df['R1_Sentiment'].apply(classify_sentiment)\n",
      "C:\\Users\\RyanJ\\AppData\\Local\\Temp\\ipykernel_6712\\1928203620.py:20: SettingWithCopyWarning: \n",
      "A value is trying to be set on a copy of a slice from a DataFrame.\n",
      "Try using .loc[row_indexer,col_indexer] = value instead\n",
      "\n",
      "See the caveats in the documentation: https://pandas.pydata.org/pandas-docs/stable/user_guide/indexing.html#returning-a-view-versus-a-copy\n",
      "  cleaned_df.loc[:, 'R2_Sentiment_Class'] = cleaned_df['R2_Sentiment'].apply(classify_sentiment)\n",
      "C:\\Users\\RyanJ\\AppData\\Local\\Temp\\ipykernel_6712\\1928203620.py:21: SettingWithCopyWarning: \n",
      "A value is trying to be set on a copy of a slice from a DataFrame.\n",
      "Try using .loc[row_indexer,col_indexer] = value instead\n",
      "\n",
      "See the caveats in the documentation: https://pandas.pydata.org/pandas-docs/stable/user_guide/indexing.html#returning-a-view-versus-a-copy\n",
      "  cleaned_df.loc[:, 'R3_Sentiment_Class'] = cleaned_df['R3_Sentiment'].apply(classify_sentiment)\n"
     ]
    }
   ],
   "source": [
    "import nltk\n",
    "from nltk.sentiment import SentimentIntensityAnalyzer\n",
    "\n",
    "nltk.download('vader_lexicon')\n",
    "\n",
    "sid = SentimentIntensityAnalyzer()\n",
    "\n",
    "Function to classify sentiment as negative\n",
    "def classify_sentiment(score):\n",
    "    return 'Negative' if score < 0 else 'Positive'\n",
    "\n",
    "# Create new columns for sentiment score for each Reviewer\n",
    "cleaned_df['R1_Sentiment'] = cleaned_df['R1'].apply(lambda x: sid.polarity_scores(x)['compound'])\n",
    "cleaned_df['R2_Sentiment'] = cleaned_df['R2'].apply(lambda x: sid.polarity_scores(x)['compound'])\n",
    "cleaned_df['R3_Sentiment'] = cleaned_df['R3'].apply(lambda x: sid.polarity_scores(x)['compound'])\n",
    "\n",
    "# Create new columns classifying numeric score into categorial score from Sentiment columns above\n",
    "cleaned_df.loc[:, 'R1_Sentiment_Class'] = cleaned_df['R1_Sentiment'].apply(classify_sentiment)\n",
    "cleaned_df.loc[:, 'R2_Sentiment_Class'] = cleaned_df['R2_Sentiment'].apply(classify_sentiment)\n",
    "cleaned_df.loc[:, 'R3_Sentiment_Class'] = cleaned_df['R3_Sentiment'].apply(classify_sentiment)\n",
    "\n",
    "# Calculate the percentage of negative reviews for each critic\n",
    "r1_negative_percentage = (cleaned_df.loc[:, 'R1_Sentiment_Class'] == 'Negative').mean() * 100\n",
    "r2_negative_percentage = (cleaned_df.loc[:, 'R2_Sentiment_Class'] == 'Negative').mean() * 100\n",
    "r3_negative_percentage = (cleaned_df.loc[:, 'R3_Sentiment_Class'] == 'Negative').mean() * 100\n",
    "\n",
    "print(r1_negative_percentage)\n",
    "print(r2_negative_percentage)\n",
    "print(r3_negative_percentage)\n",
    "\n"
   ]
  },
  {
   "cell_type": "markdown",
   "metadata": {
    "id": "3H5DlS_E7S1u"
   },
   "source": [
    "What is the covariance between promotional budget and the filming budget?\n",
    "\n",
    "**Cov:** 1811.0382567140095"
   ]
  },
  {
   "cell_type": "code",
   "execution_count": 52,
   "metadata": {
    "id": "9ZCJ4P-l7lrE"
   },
   "outputs": [
    {
     "name": "stdout",
     "output_type": "stream",
     "text": [
      "1811.0382567140095\n"
     ]
    }
   ],
   "source": [
    "covariance = cleaned_df['Promo'].cov(cleaned_df['Budget'])\n",
    "print(covariance)"
   ]
  },
  {
   "cell_type": "markdown",
   "metadata": {
    "id": "eiTujTFw7orS"
   },
   "source": [
    "# Data Visualization"
   ]
  },
  {
   "cell_type": "markdown",
   "metadata": {
    "id": "e907N-i-7r5N"
   },
   "source": [
    "Create a chart that compares the distribution of the budget for each different number of stars. (It does not need to be particularly appealing."
   ]
  },
  {
   "cell_type": "code",
   "execution_count": 330,
   "metadata": {
    "id": "DZubydmS8eME"
   },
   "outputs": [
    {
     "data": {
      "image/png": "[encoded data removed]",
      "text/plain": [
       "<Figure size 1200x800 with 1 Axes>"
      ]
     },
     "metadata": {},
     "output_type": "display_data"
    }
   ],
   "source": [
    "import matplotlib.pyplot as plt\n",
    "\n",
    "data_by_stars = [cleaned_df[cleaned_df['Stars'] == stars]['Budget'].dropna().values for stars in cleaned_df['Stars'].unique()]\n",
    "\n",
    "plt.figure(figsize=(12, 8))\n",
    "plt.boxplot(data_by_stars, labels=cleaned_df['Stars'].unique(), vert=False)\n",
    "\n",
    "plt.xlabel('Budget (in millions)')\n",
    "plt.ylabel('Number of Stars')\n",
    "plt.title('Distribution of Budget for Each Number of Stars')\n",
    "\n",
    "plt.show()"
   ]
  },
  {
   "cell_type": "markdown",
   "metadata": {
    "id": "tUut9r0u8eYu"
   },
   "source": [
    "Create a graph showing the average movie budget over time."
   ]
  },
  {
   "cell_type": "code",
   "execution_count": 331,
   "metadata": {
    "id": "ZG9Fc95v8qRf"
   },
   "outputs": [
    {
     "data": {
      "image/png": "[encoded data removed]",
      "text/plain": [
       "<Figure size 1200x800 with 1 Axes>"
      ]
     },
     "metadata": {},
     "output_type": "display_data"
    }
   ],
   "source": [
    "import matplotlib.pyplot as plt\n",
    "\n",
    "\n",
    "average_budget_by_year = cleaned_df.groupby('Year')['Budget'].mean()\n",
    "\n",
    "plt.figure(figsize=(12, 8))\n",
    "plt.plot(average_budget_by_year.index, average_budget_by_year.values, marker='o', linestyle='-', color='b')\n",
    "\n",
    "plt.xlabel('Year')\n",
    "plt.ylabel('Average Budget (in millions)')\n",
    "plt.title('Average Movie Budget Over Time')\n",
    "\n",
    "plt.grid(True)\n",
    "plt.show()"
   ]
  },
  {
   "cell_type": "markdown",
   "metadata": {
    "id": "_UqUj1uy80Re"
   },
   "source": [
    "# Feature Engineering\n",
    "\n",
    "List any features you choose to create (if you are creating many features based on one column, you do not need to list them separately.) You are not required to create any features if you do not wish to. You may create any number of additional features.\n",
    "\n",
    "1. One hot encode Season, Rating, and Genre: These 3 columns are categorical variables so we have to one-hot encode them if we want to use them in our model.\n",
    "\n",
    "2. Mapping Sentiment Class: I'm going to use what I did for data exploration earlier and use columns R1_Sentiment_Class, R2_Sentiment_Class, R3_Sentiment_Class to represent the critic's sentiment. Since they are strings, I mapped the results to integers -1 and 1. "
   ]
  },
  {
   "cell_type": "code",
   "execution_count": 263,
   "metadata": {
    "id": "zX9EeUKA9c5n"
   },
   "outputs": [],
   "source": [
    "cleaned_df = pd.get_dummies(cleaned_df, columns=['Season'], prefix='Season')\n",
    "cleaned_df = pd.get_dummies(cleaned_df, columns=['Rating'], prefix='Rating')\n",
    "cleaned_df = pd.get_dummies(cleaned_df, columns=['Genre'], prefix='Genre')\n",
    "\n",
    "cleaned_df['R1_Sentiment_Class'] = cleaned_df['R1_Sentiment_Class'].map({'Negative': -1, 'Positive': 1})\n",
    "cleaned_df['R2_Sentiment_Class'] = cleaned_df['R2_Sentiment_Class'].map({'Negative': -1, 'Positive': 1})\n",
    "cleaned_df['R3_Sentiment_Class'] = cleaned_df['R3_Sentiment_Class'].map({'Negative': -1, 'Positive': 1})\n",
    "cleaned_df = cleaned_df.dropna(subset=['Success'])\n"
   ]
  },
  {
   "cell_type": "code",
   "execution_count": 266,
   "metadata": {},
   "outputs": [
    {
     "name": "stdout",
     "output_type": "stream",
     "text": [
      "['Unnamed: 0', 'Title', 'Runtime', 'Stars', 'Year', 'Budget', 'Promo', 'R1', 'R2', 'R3', 'Success', 'R1_Sentiment', 'R2_Sentiment', 'R3_Sentiment', 'R1_Sentiment_Class', 'R2_Sentiment_Class', 'R3_Sentiment_Class', 'Season_Fall', 'Season_Spring', 'Season_Summer', 'Season_Winter', 'Rating_PG', 'Rating_PG13', 'Rating_R', 'Genre_Action', 'Genre_Drama', 'Genre_Fantasy', 'Genre_Romantic Comedy', 'Genre_Science fiction']\n"
     ]
    }
   ],
   "source": [
    "print(cleaned_df.columns.tolist())"
   ]
  },
  {
   "cell_type": "markdown",
   "metadata": {
    "id": "bj3Rdh229dLW"
   },
   "source": [
    "# Modeling\n",
    "\n",
    "Create a model of your choice.\n",
    "\n",
    "**Model type choosen:** KNN\n",
    "\n",
    "Good for classification problems and wanted to use it as I haven't used it before."
   ]
  },
  {
   "cell_type": "code",
   "execution_count": 323,
   "metadata": {
    "id": "b-adaG_K9mIz"
   },
   "outputs": [
    {
     "name": "stdout",
     "output_type": "stream",
     "text": [
      "Model Accuracy: 81.13%\n"
     ]
    }
   ],
   "source": [
    "from sklearn.model_selection import train_test_split\n",
    "from sklearn.neighbors import KNeighborsClassifier\n",
    "from sklearn.metrics import accuracy_score\n",
    "\n",
    "X = cleaned_df.drop(['Unnamed: 0', 'Title', 'Success', 'R1', 'R2', 'R3', 'R1_Sentiment', 'R2_Sentiment', 'R3_Sentiment'], axis=1)\n",
    "y = cleaned_df['Success']\n",
    "\n",
    "X_train, X_test, y_train, y_test = train_test_split(X, y, test_size=0.1, random_state=42)\n",
    "\n",
    "knn_model = KNeighborsClassifier(n_neighbors=5)\n",
    "\n",
    "knn_model.fit(X_train, y_train)\n",
    "\n",
    "y_pred = knn_model.predict(X_test)\n",
    "\n",
    "accuracy = accuracy_score(y_test, y_pred)\n",
    "\n",
    "print(f'Model Accuracy: {accuracy:.2%}')"
   ]
  },
  {
   "cell_type": "markdown",
   "metadata": {
    "id": "GY8VzL3J9mUi"
   },
   "source": [
    "# Testing"
   ]
  },
  {
   "cell_type": "markdown",
   "metadata": {
    "id": "ZeLtWCur9p7x"
   },
   "source": [
    "Shuffle your data and break it into a 10% test set and 90% training set. Show your model's accuracy on the test set. In order to get full credit, the model's accuracy must be higher than 50%.\n",
    "\n",
    "**Model accuracy:** 81.13%"
   ]
  },
  {
   "cell_type": "code",
   "execution_count": 317,
   "metadata": {
    "id": "D4TIzTVT9o59"
   },
   "outputs": [
    {
     "name": "stdout",
     "output_type": "stream",
     "text": [
      "Model Accuracy: 81.13%\n",
      "[[39  1]\n",
      " [ 9  4]]\n"
     ]
    }
   ],
   "source": [
    "from sklearn.model_selection import train_test_split\n",
    "from sklearn.neighbors import KNeighborsClassifier\n",
    "from sklearn.metrics import accuracy_score\n",
    "\n",
    "cleaned_df = cleaned_df.sample(frac=1, random_state=42)\n",
    "\n",
    "X = cleaned_df.drop(['Unnamed: 0', 'Title', 'Success', 'R1', 'R2', 'R3', 'R1_Sentiment', 'R2_Sentiment', 'R3_Sentiment'], axis=1)\n",
    "y = cleaned_df['Success']\n",
    "\n",
    "X_train, X_test, y_train, y_test = train_test_split(X, y, test_size=0.1, random_state=42)\n",
    "\n",
    "knn_model = KNeighborsClassifier(n_neighbors=5)\n",
    "\n",
    "knn_model.fit(X_train, y_train)\n",
    "\n",
    "y_pred = knn_model.predict(X_test)\n",
    "\n",
    "accuracy = accuracy_score(y_test, y_pred)\n",
    "\n",
    "print(f'Model Accuracy: {accuracy:.2%}')\n",
    "\n",
    "from sklearn.metrics import confusion_matrix\n",
    "\n",
    "conf_matrix = confusion_matrix(y_test, y_pred)\n",
    "print(conf_matrix)"
   ]
  },
  {
   "cell_type": "markdown",
   "metadata": {
    "id": "qHtRp8Ip9qAW"
   },
   "source": [
    "Show the confusion matrix for your model. To get full credit, your false positive rate and false negative rate must be under 30%.\n",
    "\n",
    "\n",
    "**False negative rate:** 18.75%\n",
    "\n",
    "**False positive rate:** 20.00%"
   ]
  },
  {
   "cell_type": "code",
   "execution_count": 318,
   "metadata": {
    "id": "8-sgv2Ix_Adj"
   },
   "outputs": [
    {
     "name": "stdout",
     "output_type": "stream",
     "text": [
      "True Positive: 39\n",
      "False Positive: 1\n",
      "False Negative: 9\n",
      "True Negative: 4\n",
      "Confusion Matrix:\n",
      "[[39  1]\n",
      " [ 9  4]]\n",
      "\n",
      "False Positive Rate: 20.00%\n",
      "False Negative Rate: 18.75%\n"
     ]
    }
   ],
   "source": [
    "from sklearn.metrics import confusion_matrix\n",
    "\n",
    "conf_matrix = confusion_matrix(y_test, y_pred)\n",
    "\n",
    "# Extract values from the confusion matrix\n",
    "true_positive, false_positive, false_negative, true_negative = conf_matrix.ravel()\n",
    "\n",
    "print(f'True Positive: {true_positive}')\n",
    "print(f'False Positive: {false_positive}')\n",
    "print(f'False Negative: {false_negative}')\n",
    "print(f'True Negative: {true_negative}')\n",
    "\n",
    "# Calculate false positive rate and false negative rate\n",
    "false_positive_rate = false_positive / (false_positive + true_negative)\n",
    "false_negative_rate = false_negative / (false_negative + true_positive)\n",
    "\n",
    "print('Confusion Matrix:')\n",
    "print(conf_matrix)\n",
    "\n",
    "print(f'\\nFalse Positive Rate: {false_positive_rate:.2%}')\n",
    "print(f'False Negative Rate: {false_negative_rate:.2%}')\n"
   ]
  },
  {
   "cell_type": "markdown",
   "metadata": {
    "id": "VdxaHXn5_Jt_"
   },
   "source": [
    "What was the most important feature for your model? Don't guess, either look up how to check or do your own tests.\n",
    "\n",
    "**Most important feature:** Season_Winter: Whether it was Winter or not. \n",
    "\n",
    "This question was hard because when I searched it up, KNN doesn't inherently provide feature importance scores.\n",
    "However, since KNN is a distance based algorithm, standardization and analysis of distance can help us find feature importance. \n",
    "\n",
    "We need to standarize because it helps equalize scaling, ensures equal weight, and gives us interpertable distances and meaningful comparisons. \n",
    "\n",
    "After standardizing, we can analyzie the importance of each feature in the model by calculating the contribution of each feature to the distances betwen data points. \n",
    "\n",
    "Finally, we sort the features based on their contribution. \n",
    "\n",
    "Upon reviewing the answer, it kind of makes sense, I searched it up and winter time (Nov, Dec) is when studios release the films that they think will garner the most awards. And it is also holiday season with Thanksgiving, Christmas, and New Years. \n",
    "\n",
    "Additionally, the other season where movies perform the best is Summer, which is traditionally a big blockbuster season. And looking at our feature importance list, Season_Summer comes second. \n"
   ]
  },
  {
   "cell_type": "code",
   "execution_count": 326,
   "metadata": {
    "id": "fTgKIBvV_swo"
   },
   "outputs": [
    {
     "name": "stdout",
     "output_type": "stream",
     "text": [
      "                      Distance Contribution\n",
      "Season_Winter                      0.113211\n",
      "Season_Summer                      0.105455\n",
      "Genre_Action                       0.097472\n",
      "Rating_PG13                        0.085021\n",
      "Rating_PG                          0.079519\n",
      "Rating_R                           0.075403\n",
      "Season_Spring                      0.071533\n",
      "Genre_Drama                        0.069382\n",
      "Genre_Romantic Comedy               0.05133\n",
      "Season_Fall                        0.032572\n",
      "Genre_Science fiction              -0.00987\n",
      "Genre_Fantasy                     -0.011716\n",
      "Promo                             -0.020936\n",
      "Stars                             -0.054423\n",
      "Budget                               -0.072\n",
      "Year                              -0.093779\n",
      "Runtime                           -0.101486\n",
      "R1_Sentiment_Class                -0.108923\n",
      "R2_Sentiment_Class                -0.113734\n",
      "R3_Sentiment_Class                -0.115126\n"
     ]
    }
   ],
   "source": [
    "from sklearn.neighbors import KNeighborsClassifier\n",
    "from sklearn.model_selection import train_test_split\n",
    "from sklearn.preprocessing import StandardScaler\n",
    "\n",
    "X = cleaned_df.drop(['Unnamed: 0', 'Title', 'Success', 'R1', 'R2', 'R3', 'R1_Sentiment', 'R2_Sentiment', 'R3_Sentiment'], axis=1)\n",
    "y = cleaned_df['Success']\n",
    "\n",
    "X_train, X_test, y_train, y_test = train_test_split(X, y, test_size=0.1, random_state=42)\n",
    "\n",
    "# Standardization\n",
    "scaler = StandardScaler()\n",
    "X_train_scaled = scaler.fit_transform(X_train)\n",
    "X_test_scaled = scaler.transform(X_test)\n",
    "\n",
    "# Make Model\n",
    "knn_model = KNeighborsClassifier(n_neighbors=5)\n",
    "\n",
    "knn_model.fit(X_train_scaled, y_train)\n",
    "\n",
    "y_pred = knn_model.predict(X_test_scaled)\n",
    "\n",
    "# Feature Importance Analysis\n",
    "feature_importance = pd.DataFrame(index=X.columns, columns=['Distance Contribution'])\n",
    "\n",
    "# Distance Contribution Calculation:\n",
    "for feature in X.columns:\n",
    "    # Create a copy of the test set to modify for each feature\n",
    "    X_test_copy = X_test_scaled.copy()\n",
    "    \n",
    "    # Change the feature values to the mean\n",
    "    X_test_copy[:, X.columns.get_loc(feature)] = X_train_scaled[:, X.columns.get_loc(feature)].mean()\n",
    "    \n",
    "    # Calculate distances with modified feature values\n",
    "    distances_original = knn_model.kneighbors(X_test_scaled)[0]\n",
    "    distances_modified = knn_model.kneighbors(X_test_copy)[0]\n",
    "    \n",
    "    # Calculate the contribution of the feature to distances\n",
    "    contribution = distances_modified.mean() - distances_original.mean()\n",
    "    \n",
    "    feature_importance.loc[feature] = contribution\n",
    "\n",
    "# Sort features by their contribution\n",
    "feature_importance = feature_importance.sort_values(by='Distance Contribution', ascending=False)\n",
    "\n",
    "print(feature_importance)"
   ]
  }
 ],
 "metadata": {
  "colab": {
   "provenance": []
  },
  "kernelspec": {
   "display_name": "Python 3 (ipykernel)",
   "language": "python",
   "name": "python3"
  },
  "language_info": {
   "codemirror_mode": {
    "name": "ipython",
    "version": 3
   },
   "file_extension": ".py",
   "mimetype": "text/x-python",
   "name": "python",
   "nbconvert_exporter": "python",
   "pygments_lexer": "ipython3",
   "version": "3.11.4"
  }
 },
 "nbformat": 4,
 "nbformat_minor": 4
}
